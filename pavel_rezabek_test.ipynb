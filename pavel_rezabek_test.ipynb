{
 "cells": [
  {
   "cell_type": "code",
   "execution_count": 88,
   "id": "c00a75e9",
   "metadata": {},
   "outputs": [],
   "source": [
    "import pandas as pd\n",
    "import datetime\n",
    "import numpy as np\n",
    "import re"
   ]
  },
  {
   "cell_type": "markdown",
   "id": "091ef4e5",
   "metadata": {},
   "source": [
    "# 1st task"
   ]
  },
  {
   "cell_type": "code",
   "execution_count": 18,
   "id": "0ae41f51",
   "metadata": {},
   "outputs": [],
   "source": [
    "CMCSA = pd.read_csv(\"/Users/pavelrezabek/Desktop/data/CMCSA.csv\")\n",
    "EQT =  pd.read_csv(\"/Users/pavelrezabek/Desktop/data/EQT.csv\")\n",
    "ULTA =  pd.read_csv(\"/Users/pavelrezabek/Desktop/data/ULTA.csv\")\n",
    "\n",
    "xxx = CMCSA[[\"Adj Close\"]] + CMCSA[[\"Close\"]]\n",
    "\n"
   ]
  },
  {
   "cell_type": "code",
   "execution_count": 22,
   "id": "a499022c",
   "metadata": {},
   "outputs": [
    {
     "name": "stdout",
     "output_type": "stream",
     "text": [
      "False\n",
      "False\n",
      "True\n"
     ]
    }
   ],
   "source": [
    "print(CMCSA[\"Adj Close\"].equals(CMCSA['Close']) )\n",
    "print(EQT[\"Adj Close\"].equals(EQT['Close']) )\n",
    "print(ULTA[\"Adj Close\"].equals(ULTA['Close']) )\n",
    "\n",
    "\n",
    "#ULTA has no difference between Close and Adj Close column. It means that the company didn't paid out dividends \n",
    "#or merged stock or somethin that has to be included to the (adjusted)price to make it comparable.\n"
   ]
  },
  {
   "cell_type": "code",
   "execution_count": 28,
   "id": "29d67e41",
   "metadata": {},
   "outputs": [
    {
     "name": "stdout",
     "output_type": "stream",
     "text": [
      "61.75\n",
      "28.60373878479004\n",
      "above is maximal and minmal adj close price of CMCSA\n",
      "50.59999847412109\n",
      "4.931388854980469\n",
      "above is maximal and minmal adj close price of EQT\n",
      "446.1400146484375\n",
      "128.52000427246094\n",
      "above is maximal and minmal adj close price of ULTA\n"
     ]
    }
   ],
   "source": [
    "print(CMCSA[\"Adj Close\"].max())\n",
    "print(CMCSA[\"Adj Close\"].min())\n",
    "print(\"above is maximal and minmal adj close price of CMCSA\")\n",
    "\n",
    "print(EQT[\"Adj Close\"].max())\n",
    "print(EQT[\"Adj Close\"].min())\n",
    "print(\"above is maximal and minmal adj close price of EQT\")\n",
    "\n",
    "print(ULTA[\"Adj Close\"].max())\n",
    "print(ULTA[\"Adj Close\"].min())\n",
    "print(\"above is maximal and minmal adj close price of ULTA\")\n"
   ]
  },
  {
   "cell_type": "markdown",
   "id": "bedeb0aa",
   "metadata": {},
   "source": [
    "6. Which company recorded the highest total return over the whole period?"
   ]
  },
  {
   "cell_type": "code",
   "execution_count": 144,
   "id": "7fb537a8",
   "metadata": {},
   "outputs": [],
   "source": [
    "ULTA['Return']= ULTA[\"Adj Close\"].pct_change()\n",
    "EQT['Return']= EQT[\"Adj Close\"].pct_change()\n",
    "CMCSA['Return']= CMCSA[\"Adj Close\"].pct_change()\n"
   ]
  },
  {
   "cell_type": "code",
   "execution_count": 145,
   "id": "cae2fdc3",
   "metadata": {},
   "outputs": [
    {
     "data": {
      "text/plain": [
       "-0.09130733645375633"
      ]
     },
     "execution_count": 145,
     "metadata": {},
     "output_type": "execute_result"
    }
   ],
   "source": [
    "#min return for each company\n",
    "print(ULTA['Return'].min())\n",
    "print(EQT['Return'].min())\n",
    "print(CMCSA['Return'].min())"
   ]
  },
  {
   "cell_type": "code",
   "execution_count": 146,
   "id": "9b69d408",
   "metadata": {},
   "outputs": [
    {
     "name": "stdout",
     "output_type": "stream",
     "text": [
      "0.2398072432799918\n",
      "0.37319876511036654\n",
      "0.12564413146311737\n"
     ]
    }
   ],
   "source": [
    "#max return for each company\n",
    "print(ULTA['Return'].max())\n",
    "print(EQT['Return'].max())\n",
    "print(CMCSA['Return'].max())"
   ]
  },
  {
   "cell_type": "code",
   "execution_count": 147,
   "id": "abaf630a",
   "metadata": {},
   "outputs": [
    {
     "name": "stdout",
     "output_type": "stream",
     "text": [
      "0.0010071562183888447\n",
      "0.0008781632445699336\n",
      "0.00015311780203538768\n"
     ]
    }
   ],
   "source": [
    "#mean return for each company\n",
    "print(ULTA['Return'].mean())\n",
    "print(EQT['Return'].mean())\n",
    "print(CMCSA['Return'].mean())"
   ]
  },
  {
   "cell_type": "code",
   "execution_count": 149,
   "id": "f8ceba60",
   "metadata": {},
   "outputs": [
    {
     "name": "stdout",
     "output_type": "stream",
     "text": [
      "0.0012928735955255455\n",
      "-0.0005496064520317256\n",
      "0.0004488177012955674\n"
     ]
    }
   ],
   "source": [
    "#median return for each company\n",
    "print(ULTA['Return'].median())\n",
    "print(EQT['Return'].median())\n",
    "print(CMCSA['Return'].median())"
   ]
  },
  {
   "cell_type": "code",
   "execution_count": 159,
   "id": "0e623ce5",
   "metadata": {},
   "outputs": [
    {
     "data": {
      "text/plain": [
       "Date         2020-03-24\n",
       "High         179.149994\n",
       "Low          154.050003\n",
       "Open         157.979996\n",
       "Close        177.589996\n",
       "Volume          2001500\n",
       "Adj Close    177.589996\n",
       "Return         0.239807\n",
       "Name: 592, dtype: object"
      ]
     },
     "execution_count": 159,
     "metadata": {},
     "output_type": "execute_result"
    }
   ],
   "source": [
    "ULTA.loc[ULTA['Return'].idxmax()] #day with the highest return"
   ]
  },
  {
   "cell_type": "code",
   "execution_count": null,
   "id": "233fbd00",
   "metadata": {},
   "outputs": [],
   "source": []
  },
  {
   "cell_type": "code",
   "execution_count": 141,
   "id": "0d5c8461",
   "metadata": {},
   "outputs": [
    {
     "name": "stdout",
     "output_type": "stream",
     "text": [
      "2.172751561207678\n",
      "1.2428721813360541\n",
      "0.9861663518827323\n"
     ]
    }
   ],
   "source": [
    "print(ULTA[\"Adj Close\"][1258]/ULTA[\"Adj Close\"][0])\n",
    "print(EQT[\"Adj Close\"][1258]/EQT[\"Adj Close\"][0])\n",
    "print(CMCSA[\"Adj Close\"][1258]/CMCSA[\"Adj Close\"][0])\n",
    "#the highest returned had the ULTA company"
   ]
  },
  {
   "cell_type": "markdown",
   "id": "1c563e61",
   "metadata": {},
   "source": [
    "#  2nd task"
   ]
  },
  {
   "cell_type": "code",
   "execution_count": null,
   "id": "73955fca",
   "metadata": {},
   "outputs": [],
   "source": []
  },
  {
   "cell_type": "code",
   "execution_count": 129,
   "id": "5bc2a996",
   "metadata": {},
   "outputs": [
    {
     "data": {
      "text/plain": [
       "45"
      ]
     },
     "execution_count": 129,
     "metadata": {},
     "output_type": "execute_result"
    }
   ],
   "source": [
    "sp500 = pd.read_csv(\"https://ies-python-midterm.s3.eu-central-1.amazonaws.com/companies/companies_no_subindustry.csv\")\n",
    "original_count = count_row = sp500.shape[0]\n",
    "sp500 = sp500[sp500['included'].notna()]\n",
    "final_count = count_row = sp500.shape[0]\n",
    "\n",
    "original_count - final_count #the number of collumns without inclusion date"
   ]
  },
  {
   "cell_type": "code",
   "execution_count": 110,
   "id": "0e3b412d",
   "metadata": {},
   "outputs": [],
   "source": []
  },
  {
   "cell_type": "code",
   "execution_count": null,
   "id": "645ae614",
   "metadata": {},
   "outputs": [],
   "source": []
  },
  {
   "cell_type": "code",
   "execution_count": 85,
   "id": "b9647242",
   "metadata": {},
   "outputs": [],
   "source": [
    "#sp500.groupby([sp500.columns[2]]).sum().plot(kind='pie', y='votes_of_each_class')"
   ]
  },
  {
   "cell_type": "code",
   "execution_count": null,
   "id": "77bbc7b8",
   "metadata": {},
   "outputs": [],
   "source": []
  },
  {
   "cell_type": "code",
   "execution_count": null,
   "id": "d742df3e",
   "metadata": {},
   "outputs": [],
   "source": []
  },
  {
   "cell_type": "code",
   "execution_count": 108,
   "id": "66680617",
   "metadata": {},
   "outputs": [],
   "source": [
    "def get_state(myString):\n",
    "    possition = myString.find(',')\n",
    "    lenstring = len(myString)\n",
    "    return(myString[possition+2:lenstring])"
   ]
  },
  {
   "cell_type": "code",
   "execution_count": 112,
   "id": "28cb77b4",
   "metadata": {},
   "outputs": [],
   "source": [
    "sp500['hq'] = sp500['hq'].apply(get_state)"
   ]
  },
  {
   "cell_type": "code",
   "execution_count": null,
   "id": "0b996da3",
   "metadata": {},
   "outputs": [],
   "source": []
  },
  {
   "cell_type": "code",
   "execution_count": 122,
   "id": "e0c8c1d4",
   "metadata": {},
   "outputs": [
    {
     "data": {
      "text/plain": [
       "<AxesSubplot:ylabel='Security'>"
      ]
     },
     "execution_count": 122,
     "metadata": {},
     "output_type": "execute_result"
    },
    {
     "data": {
      "image/png": "[encoded data removed]",
      "text/plain": [
       "<Figure size 432x288 with 1 Axes>"
      ]
     },
     "metadata": {},
     "output_type": "display_data"
    }
   ],
   "source": [
    "sp500.groupby(['hq']).count().plot(kind='pie', y='Security')"
   ]
  },
  {
   "cell_type": "code",
   "execution_count": 124,
   "id": "28ee07af",
   "metadata": {},
   "outputs": [
    {
     "data": {
      "text/plain": [
       "hq\n",
       "Alabama                                2\n",
       "Arizona                                5\n",
       "Arkansas                               3\n",
       "Bermuda                                2\n",
       "Bristol, United Kingdom                1\n",
       "California                            65\n",
       "Colorado                               7\n",
       "Connecticut                           13\n",
       "D.C.                                   1\n",
       "Delaware                               2\n",
       "Florida                               15\n",
       "Georgia                               16\n",
       "Idaho                                  2\n",
       "Illinois                              31\n",
       "Illinois; Pittsburgh, Pennsylvania     1\n",
       "Indiana                                6\n",
       "Iowa                                   1\n",
       "Ireland                                7\n",
       "Israel                                 1\n",
       "Kentucky                               2\n",
       "Kingdom of the Netherlands             1\n",
       "Louisiana                              3\n",
       "Maine                                  1\n",
       "Maryland                               5\n",
       "Massachusetts                         18\n",
       "Michigan                              10\n",
       "Minnesota                             13\n",
       "Missouri                               6\n",
       "Nebraska                               2\n",
       "Netherlands                            2\n",
       "Nevada                                 4\n",
       "New Jersey                            15\n",
       "New York                              44\n",
       "North Carolina                        16\n",
       "Ohio                                  17\n",
       "Oklahoma                               4\n",
       "Oregon                                 1\n",
       "Pennsylvania                          18\n",
       "Rhode Island                           4\n",
       "Switzerland                            3\n",
       "Tennessee                              8\n",
       "Texas                                 41\n",
       "UK                                     1\n",
       "United Kingdom                         3\n",
       "Utah                                   2\n",
       "Virginia                              15\n",
       "Washington                            12\n",
       "Wisconsin                              6\n",
       "Name: Symbol, dtype: int64"
      ]
     },
     "execution_count": 124,
     "metadata": {},
     "output_type": "execute_result"
    }
   ],
   "source": [
    "sp500.groupby(['hq']).count()[\"Symbol\"]"
   ]
  },
  {
   "cell_type": "code",
   "execution_count": 126,
   "id": "a8abbfea",
   "metadata": {},
   "outputs": [],
   "source": [
    "new_df = pd.read_csv(\"https://ies-python-midterm.s3.eu-central-1.amazonaws.com/companies/companies_subindustry.csv\")"
   ]
  },
  {
   "cell_type": "code",
   "execution_count": 128,
   "id": "4b983e54",
   "metadata": {},
   "outputs": [
    {
     "data": {
      "text/html": [
       "<div>\n",
       "<style scoped>\n",
       "    .dataframe tbody tr th:only-of-type {\n",
       "        vertical-align: middle;\n",
       "    }\n",
       "\n",
       "    .dataframe tbody tr th {\n",
       "        vertical-align: top;\n",
       "    }\n",
       "\n",
       "    .dataframe thead th {\n",
       "        text-align: right;\n",
       "    }\n",
       "</style>\n",
       "<table border=\"1\" class=\"dataframe\">\n",
       "  <thead>\n",
       "    <tr style=\"text-align: right;\">\n",
       "      <th></th>\n",
       "      <th>Symbol</th>\n",
       "      <th>Security</th>\n",
       "      <th>GICS Sector</th>\n",
       "      <th>hq</th>\n",
       "      <th>included</th>\n",
       "      <th>Founded</th>\n",
       "      <th>subindustry</th>\n",
       "    </tr>\n",
       "  </thead>\n",
       "  <tbody>\n",
       "    <tr>\n",
       "      <th>0</th>\n",
       "      <td>MMM</td>\n",
       "      <td>3M</td>\n",
       "      <td>Industrials</td>\n",
       "      <td>Minnesota</td>\n",
       "      <td>09.08.1976</td>\n",
       "      <td>1902</td>\n",
       "      <td>Industrial Conglomerates</td>\n",
       "    </tr>\n",
       "    <tr>\n",
       "      <th>1</th>\n",
       "      <td>AOS</td>\n",
       "      <td>A. O. Smith</td>\n",
       "      <td>Industrials</td>\n",
       "      <td>Wisconsin</td>\n",
       "      <td>26.07.2017</td>\n",
       "      <td>1916</td>\n",
       "      <td>Building Products</td>\n",
       "    </tr>\n",
       "    <tr>\n",
       "      <th>2</th>\n",
       "      <td>ABT</td>\n",
       "      <td>Abbott</td>\n",
       "      <td>Health Care</td>\n",
       "      <td>Illinois</td>\n",
       "      <td>31.03.1964</td>\n",
       "      <td>1888</td>\n",
       "      <td>Health Care Equipment</td>\n",
       "    </tr>\n",
       "    <tr>\n",
       "      <th>3</th>\n",
       "      <td>ABBV</td>\n",
       "      <td>AbbVie</td>\n",
       "      <td>Health Care</td>\n",
       "      <td>Illinois</td>\n",
       "      <td>31.12.2012</td>\n",
       "      <td>2013 (1888)</td>\n",
       "      <td>Pharmaceuticals</td>\n",
       "    </tr>\n",
       "    <tr>\n",
       "      <th>4</th>\n",
       "      <td>ABMD</td>\n",
       "      <td>Abiomed</td>\n",
       "      <td>Health Care</td>\n",
       "      <td>Massachusetts</td>\n",
       "      <td>31.05.2018</td>\n",
       "      <td>1981</td>\n",
       "      <td>Health Care Equipment</td>\n",
       "    </tr>\n",
       "    <tr>\n",
       "      <th>...</th>\n",
       "      <td>...</td>\n",
       "      <td>...</td>\n",
       "      <td>...</td>\n",
       "      <td>...</td>\n",
       "      <td>...</td>\n",
       "      <td>...</td>\n",
       "      <td>...</td>\n",
       "    </tr>\n",
       "    <tr>\n",
       "      <th>453</th>\n",
       "      <td>YUM</td>\n",
       "      <td>Yum! Brands</td>\n",
       "      <td>Consumer Discretionary</td>\n",
       "      <td>Kentucky</td>\n",
       "      <td>06.10.1997</td>\n",
       "      <td>1997</td>\n",
       "      <td>Restaurants</td>\n",
       "    </tr>\n",
       "    <tr>\n",
       "      <th>454</th>\n",
       "      <td>ZBRA</td>\n",
       "      <td>Zebra Technologies</td>\n",
       "      <td>Information Technology</td>\n",
       "      <td>Illinois</td>\n",
       "      <td>23.12.2019</td>\n",
       "      <td>1969</td>\n",
       "      <td>Electronic Equipment &amp; Instruments</td>\n",
       "    </tr>\n",
       "    <tr>\n",
       "      <th>455</th>\n",
       "      <td>ZBH</td>\n",
       "      <td>Zimmer Biomet</td>\n",
       "      <td>Health Care</td>\n",
       "      <td>Indiana</td>\n",
       "      <td>07.08.2001</td>\n",
       "      <td>1927</td>\n",
       "      <td>Health Care Equipment</td>\n",
       "    </tr>\n",
       "    <tr>\n",
       "      <th>456</th>\n",
       "      <td>ZION</td>\n",
       "      <td>Zions Bancorporation</td>\n",
       "      <td>Financials</td>\n",
       "      <td>Utah</td>\n",
       "      <td>22.06.2001</td>\n",
       "      <td>1873</td>\n",
       "      <td>Regional Banks</td>\n",
       "    </tr>\n",
       "    <tr>\n",
       "      <th>457</th>\n",
       "      <td>ZTS</td>\n",
       "      <td>Zoetis</td>\n",
       "      <td>Health Care</td>\n",
       "      <td>New Jersey</td>\n",
       "      <td>21.06.2013</td>\n",
       "      <td>1952</td>\n",
       "      <td>Pharmaceuticals</td>\n",
       "    </tr>\n",
       "  </tbody>\n",
       "</table>\n",
       "<p>458 rows × 7 columns</p>\n",
       "</div>"
      ],
      "text/plain": [
       "    Symbol              Security             GICS Sector             hq  \\\n",
       "0      MMM                    3M             Industrials      Minnesota   \n",
       "1      AOS           A. O. Smith             Industrials      Wisconsin   \n",
       "2      ABT                Abbott             Health Care       Illinois   \n",
       "3     ABBV                AbbVie             Health Care       Illinois   \n",
       "4     ABMD               Abiomed             Health Care  Massachusetts   \n",
       "..     ...                   ...                     ...            ...   \n",
       "453    YUM           Yum! Brands  Consumer Discretionary       Kentucky   \n",
       "454   ZBRA    Zebra Technologies  Information Technology       Illinois   \n",
       "455    ZBH         Zimmer Biomet             Health Care        Indiana   \n",
       "456   ZION  Zions Bancorporation              Financials           Utah   \n",
       "457    ZTS                Zoetis             Health Care     New Jersey   \n",
       "\n",
       "       included      Founded                         subindustry  \n",
       "0    09.08.1976         1902            Industrial Conglomerates  \n",
       "1    26.07.2017         1916                   Building Products  \n",
       "2    31.03.1964         1888               Health Care Equipment  \n",
       "3    31.12.2012  2013 (1888)                     Pharmaceuticals  \n",
       "4    31.05.2018         1981               Health Care Equipment  \n",
       "..          ...          ...                                 ...  \n",
       "453  06.10.1997         1997                         Restaurants  \n",
       "454  23.12.2019         1969  Electronic Equipment & Instruments  \n",
       "455  07.08.2001         1927               Health Care Equipment  \n",
       "456  22.06.2001         1873                      Regional Banks  \n",
       "457  21.06.2013         1952                     Pharmaceuticals  \n",
       "\n",
       "[458 rows x 7 columns]"
      ]
     },
     "execution_count": 128,
     "metadata": {},
     "output_type": "execute_result"
    }
   ],
   "source": [
    "pd.merge(sp500, new_df, on='Symbol')"
   ]
  },
  {
   "cell_type": "code",
   "execution_count": null,
   "id": "b850f334",
   "metadata": {},
   "outputs": [],
   "source": []
  }
 ],
 "metadata": {
  "kernelspec": {
   "display_name": "Python 3 (ipykernel)",
   "language": "python",
   "name": "python3"
  },
  "language_info": {
   "codemirror_mode": {
    "name": "ipython",
    "version": 3
   },
   "file_extension": ".py",
   "mimetype": "text/x-python",
   "name": "python",
   "nbconvert_exporter": "python",
   "pygments_lexer": "ipython3",
   "version": "3.8.12"
  }
 },
 "nbformat": 4,
 "nbformat_minor": 5
}
